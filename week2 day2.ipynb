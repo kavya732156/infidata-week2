{
 "cells": [
  {
   "cell_type": "markdown",
   "id": "0e0407cc",
   "metadata": {},
   "source": [
    "# standard Deviation\n",
    "## median mid number\n",
    "## mode ; number of occurance the same number is repeatedsqrt(\n",
    "## S.D=sqrt(simation(x-xbar)2/n n total number of elements  series \n",
    "## varience formula\n",
    "## variance=(simation(x-xbar)2/n\n",
    "## S.D=sqrt(varience)\n"
   ]
  },
  {
   "cell_type": "markdown",
   "id": "3cc7b9ec",
   "metadata": {},
   "source": [
    "## HOW TO CALCULATE MEAN VALUE"
   ]
  },
  {
   "cell_type": "code",
   "execution_count": 2,
   "id": "0f7c0e64",
   "metadata": {},
   "outputs": [
    {
     "data": {
      "text/plain": [
       "77.42857142857143"
      ]
     },
     "execution_count": 2,
     "metadata": {},
     "output_type": "execute_result"
    }
   ],
   "source": [
    "import numpy as np\n",
    "speed=[32,111,138,28,59,77,97]\n",
    "x=np.mean(speed)\n",
    "x"
   ]
  },
  {
   "cell_type": "markdown",
   "id": "79db98a1",
   "metadata": {},
   "source": [
    "\n",
    "# To calulate median value , the elements are sorted then take the median value"
   ]
  },
  {
   "cell_type": "code",
   "execution_count": 4,
   "id": "f856f211",
   "metadata": {},
   "outputs": [
    {
     "data": {
      "text/plain": [
       "77.0"
      ]
     },
     "execution_count": 4,
     "metadata": {},
     "output_type": "execute_result"
    }
   ],
   "source": [
    "import numpy as np\n",
    "speed=[32,111,138,28,59,77,97]\n",
    "x=np.median(speed)\n",
    "x"
   ]
  },
  {
   "cell_type": "markdown",
   "id": "027f6427",
   "metadata": {},
   "source": [
    "# Mode: to count the no. of times the elements are repeated"
   ]
  },
  {
   "cell_type": "code",
   "execution_count": 8,
   "id": "e3203528",
   "metadata": {},
   "outputs": [
    {
     "data": {
      "text/plain": [
       "ModeResult(mode=array([32]), count=array([2]))"
      ]
     },
     "execution_count": 8,
     "metadata": {},
     "output_type": "execute_result"
    }
   ],
   "source": [
    "from scipy import stats\n",
    "speed=[32,111,138,28,32,77,97]\n",
    "x=stats.mode(speed)\n",
    "x"
   ]
  },
  {
   "cell_type": "markdown",
   "id": "e630712a",
   "metadata": {},
   "source": [
    "# To calulete varience var is a method it calculate the varience"
   ]
  },
  {
   "cell_type": "code",
   "execution_count": 9,
   "id": "bc7a1d45",
   "metadata": {},
   "outputs": [
    {
     "data": {
      "text/plain": [
       "1432.2448979591834"
      ]
     },
     "execution_count": 9,
     "metadata": {},
     "output_type": "execute_result"
    }
   ],
   "source": [
    "import numpy as np\n",
    "speed=[32,111,138,28,59,77,97]\n",
    "x=np.var(speed)\n",
    "x"
   ]
  },
  {
   "cell_type": "markdown",
   "id": "3f8d41fb",
   "metadata": {},
   "source": [
    "# To calculate the standard deviation std is used"
   ]
  },
  {
   "cell_type": "code",
   "execution_count": 11,
   "id": "3e9976e5",
   "metadata": {},
   "outputs": [
    {
     "data": {
      "text/plain": [
       "37.84501153334721"
      ]
     },
     "execution_count": 11,
     "metadata": {},
     "output_type": "execute_result"
    }
   ],
   "source": [
    "import numpy as np\n",
    "speed=[32,111,138,28,59,77,97]\n",
    "x=np.std(speed)\n",
    "x"
   ]
  },
  {
   "cell_type": "markdown",
   "id": "c66b8457",
   "metadata": {},
   "source": [
    "# data distribution: To create a big dataset uniform is used with random fumction.This dataset are used for tesing purpose."
   ]
  },
  {
   "cell_type": "code",
   "execution_count": 13,
   "id": "8ceca2b8",
   "metadata": {},
   "outputs": [
    {
     "data": {
      "text/plain": [
       "array([3.57102144, 4.79213819, 0.81591892, 2.54625212, 1.30469675,\n",
       "       0.55268963, 2.87035572, 4.86456019, 0.92261817, 4.98027775,\n",
       "       1.35929799, 2.66360547, 0.26925185, 1.36284502, 4.3313295 ,\n",
       "       4.02460684, 2.45038661, 4.6769662 , 0.26989668, 0.51213868,\n",
       "       3.18382506, 1.21744694, 3.05938554, 2.45217054, 2.53192267,\n",
       "       1.11495028, 0.46556222, 4.901932  , 2.30615385, 0.14693024,\n",
       "       0.12274362, 0.65283251, 1.6153677 , 2.63743873, 4.25344211,\n",
       "       2.43403846, 0.63417103, 2.14211934, 3.28034909, 0.65644528,\n",
       "       0.75801989, 0.66220537, 0.06629273, 0.41115473, 4.99659101,\n",
       "       0.14369729, 2.71144756, 4.67819204, 4.52738375, 1.0047229 ,\n",
       "       3.35177813, 1.4952289 , 0.13606871, 0.47597011, 2.80716774,\n",
       "       2.89864497, 2.10989609, 4.37519642, 1.38083951, 3.79424952,\n",
       "       4.33719747, 1.84524556, 0.9608304 , 0.63699749, 4.77565086,\n",
       "       2.42147188, 0.73714215, 3.02488108, 3.03017429, 3.75289964,\n",
       "       3.9236072 , 4.21107401, 2.10771148, 3.96391289, 1.19748504,\n",
       "       3.85898199, 2.45518567, 4.16673984, 0.46453543, 1.25019399,\n",
       "       4.96186269, 1.49344186, 3.43656609, 0.2908158 , 1.4253037 ,\n",
       "       0.46170055, 2.87757813, 0.41968239, 4.60053976, 4.67439943,\n",
       "       0.81840925, 3.75842342, 3.5067149 , 2.02092239, 1.14677735,\n",
       "       4.5034208 , 0.14893237, 2.05416215, 1.33107037, 4.29060095])"
      ]
     },
     "execution_count": 13,
     "metadata": {},
     "output_type": "execute_result"
    }
   ],
   "source": [
    "import numpy as np\n",
    "x=np.random.uniform(0.0 , 5.0 , 100)\n",
    "x"
   ]
  },
  {
   "cell_type": "markdown",
   "id": "a260808e",
   "metadata": {},
   "source": [
    "# generating histogram for this random value "
   ]
  },
  {
   "cell_type": "code",
   "execution_count": 24,
   "id": "3ae31c3b",
   "metadata": {},
   "outputs": [
    {
     "data": {
      "image/png": "[encoded data removed]",
      "text/plain": [
       "<Figure size 432x288 with 1 Axes>"
      ]
     },
     "metadata": {
      "needs_background": "light"
     },
     "output_type": "display_data"
    }
   ],
   "source": [
    "import numpy as np\n",
    "import matplotlib.pyplot as plt\n",
    "x=np.random.uniform(0.0 , 5.0 , 100)\n",
    "plt.hist(x,5)\n",
    "plt.show()"
   ]
  },
  {
   "cell_type": "code",
   "execution_count": 25,
   "id": "bcdcc2d4",
   "metadata": {},
   "outputs": [
    {
     "data": {
      "image/png": "[encoded data removed]",
      "text/plain": [
       "<Figure size 432x288 with 1 Axes>"
      ]
     },
     "metadata": {
      "needs_background": "light"
     },
     "output_type": "display_data"
    },
    {
     "data": {
      "text/plain": [
       "array([0.19708207, 0.61058045, 2.37825794, 0.39362161, 2.72534811,\n",
       "       0.07807908, 3.6479012 , 0.99137258, 2.76777242, 1.0425166 ])"
      ]
     },
     "execution_count": 25,
     "metadata": {},
     "output_type": "execute_result"
    }
   ],
   "source": [
    "import numpy as np\n",
    "import matplotlib.pyplot as plt\n",
    "x=np.random.uniform(0.0 , 5.0 , 10)\n",
    "plt.hist(x,5)\n",
    "plt.show()\n",
    "x"
   ]
  },
  {
   "cell_type": "markdown",
   "id": "230ee1d6",
   "metadata": {},
   "source": [
    "# for huge dataset go with machine learning"
   ]
  },
  {
   "cell_type": "markdown",
   "id": "91f482bc",
   "metadata": {},
   "source": [
    "# MACHINE LEARNING \n",
    "## Ml: tasks and gain an experience performace of a computer gets improved\n",
    "# TYPES\n",
    "## supervised: is a type machine learing , it is  trained based on label data . it is given with input and we can predict the output \n",
    "# ORal\n",
    "## it is a algorithum it is a mapping function x(input) map with y(output variable) i.e X->Y\n",
    "##  example : is is used in stock market analysis, Forecasting,spam Filtering,Fraud Detection,Image Classification\n",
    "\n",
    "\n",
    "# REGRESSION \n",
    "## work upon the continious data it always work upon continous on data example: stack market\n",
    "# ClASSIFfICATION \n",
    "## it works on Categorical Data  example: Image clasification\n"
   ]
  },
  {
   "cell_type": "code",
   "execution_count": null,
   "id": "5f3b1c51",
   "metadata": {},
   "outputs": [],
   "source": []
  }
 ],
 "metadata": {
  "kernelspec": {
   "display_name": "Python 3",
   "language": "python",
   "name": "python3"
  },
  "language_info": {
   "codemirror_mode": {
    "name": "ipython",
    "version": 3
   },
   "file_extension": ".py",
   "mimetype": "text/x-python",
   "name": "python",
   "nbconvert_exporter": "python",
   "pygments_lexer": "ipython3",
   "version": "3.8.8"
  }
 },
 "nbformat": 4,
 "nbformat_minor": 5
}
